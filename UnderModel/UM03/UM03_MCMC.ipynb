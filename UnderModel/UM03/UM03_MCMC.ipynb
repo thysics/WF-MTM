{
 "cells": [
  {
   "cell_type": "code",
   "execution_count": 1,
   "metadata": {},
   "outputs": [],
   "source": [
    "import pickle\n",
    "import numpy as np\n",
    "from itertools import chain, combinations\n",
    "import time\n",
    "import tqdm as tq"
   ]
  },
  {
   "cell_type": "code",
   "execution_count": 2,
   "metadata": {},
   "outputs": [],
   "source": [
    "# some_file.py\n",
    "import sys\n",
    "# insert at 1, 0 is the script path (or '' in REPL)\n",
    "sys.path.insert(1, '../../Sampler/')\n",
    "\n",
    "\n",
    "from sample_a import get_Nikt, update_A, get_Ndkv\n",
    "from sample_phi_joint import update_Phi\n",
    "from sample_z_HB import update_Z_Hammingball as update_Z\n",
    "from sample_x import update_X_exact as update_X"
   ]
  },
  {
   "cell_type": "code",
   "execution_count": 3,
   "metadata": {},
   "outputs": [],
   "source": [
    "PIK = \"../../Data/Syndata7N.dat\"\n",
    "\n",
    "with open(PIK, \"rb\") as f:\n",
    "    trueW = pickle.load(f)\n",
    "    trueA = pickle.load(f)\n",
    "    trueX = pickle.load(f)\n",
    "    trueZ = pickle.load(f)\n",
    "    trueRho = pickle.load(f)\n",
    "    truePhi = pickle.load(f)\n",
    "    trueGam = pickle.load(f)\n",
    "    Nt = pickle.load(f)\n",
    "    eta1 = pickle.load(f)\n",
    "    eta2 = pickle.load(f)\n",
    "    alpha = pickle.load(f)\n",
    "    beta = pickle.load(f)"
   ]
  },
  {
   "cell_type": "code",
   "execution_count": 4,
   "metadata": {},
   "outputs": [],
   "source": [
    "D, T = trueW.shape[1], trueW.shape[2]"
   ]
  },
  {
   "cell_type": "markdown",
   "metadata": {},
   "source": [
    "**Inference is made against a cross-sectional data, obtained from underlying data generating process**\n",
    "\n",
    "The code runs the MCMC chain to infer $A, Z, \\phi, \\gamma,  W$. The chain for each parameter is coded in function.\n",
    "\n"
   ]
  },
  {
   "cell_type": "markdown",
   "metadata": {},
   "source": [
    "Construct the MCMC chain for $A, Z, \\phi, \\gamma,  W$"
   ]
  },
  {
   "cell_type": "code",
   "execution_count": 5,
   "metadata": {},
   "outputs": [
    {
     "name": "stdout",
     "output_type": "stream",
     "text": [
      "Setting of the experiment\n",
      "\n",
      "Number of observations across time : [450 450 450 450 450 450 450 450 450 450]\n",
      "\n",
      "Number of underlying clusters K: 4\n",
      "\n",
      "Number of diseases D: 20\n",
      "\n",
      "Number of time points T: 10\n",
      "\n"
     ]
    }
   ],
   "source": [
    "D, T = trueW.shape[1], trueW.shape[2]\n",
    "K = trueZ.shape[1]\n",
    "print(\"Setting of the experiment\\n\")\n",
    "print(\"Number of observations across time : {}\\n\".format(Nt))\n",
    "print(\"Number of underlying clusters K: {}\\n\".format(K))\n",
    "print(\"Number of diseases D: {}\\n\".format(D))\n",
    "print(\"Number of time points T: {}\\n\".format(T))"
   ]
  },
  {
   "cell_type": "markdown",
   "metadata": {},
   "source": [
    "Posterior inference of $X, Z, \\Phi, \\gamma$ simulatenously"
   ]
  },
  {
   "cell_type": "code",
   "execution_count": 6,
   "metadata": {},
   "outputs": [
    {
     "name": "stdout",
     "output_type": "stream",
     "text": [
      "alpha: 0.25 beta: 1.0\n",
      "eta1: 0.3 eta2: 0.3\n"
     ]
    }
   ],
   "source": [
    "print(\"alpha: {}\".format(alpha) + \" beta: {}\".format(beta))\n",
    "print(\"eta1: {}\".format(eta1) + \" eta2: {}\".format(eta2))"
   ]
  },
  {
   "cell_type": "code",
   "execution_count": 7,
   "metadata": {},
   "outputs": [],
   "source": [
    "# Hamming Ball Radius\n",
    "R = 2\n",
    "\n",
    "M = 50\n",
    "\n",
    "# True parameters\n",
    "# alpha = 1/K\n",
    "# beta = 1.\n",
    "\n",
    "# eta1 = 0.3\n",
    "# eta2 = 0.3\n",
    "\n",
    "diffusion_unit = 0.8\n",
    "propScale = 0.1\n",
    "Times = []"
   ]
  },
  {
   "cell_type": "code",
   "execution_count": 8,
   "metadata": {},
   "outputs": [],
   "source": [
    "APost = []\n",
    "XPost = []\n",
    "ZPost = []\n",
    "PhiPost = []\n",
    "NdkvPost = []"
   ]
  },
  {
   "cell_type": "markdown",
   "metadata": {},
   "source": [
    "1. Load the initial parameters.\n",
    "\n",
    "$X, Z, A$ : Assign random values within its support\n",
    "\n",
    "$\\phi, \\gamma$ : Draw from their prior distribution."
   ]
  },
  {
   "cell_type": "code",
   "execution_count": 9,
   "metadata": {},
   "outputs": [],
   "source": [
    "PIK = \"init.dat\"\n",
    "\n",
    "with open(PIK, \"rb\") as f:\n",
    "    initA = pickle.load(f)\n",
    "    initZ = pickle.load(f)\n",
    "    initX = pickle.load(f)\n",
    "    initPhi = pickle.load(f)"
   ]
  },
  {
   "cell_type": "code",
   "execution_count": 10,
   "metadata": {},
   "outputs": [],
   "source": [
    "APost.append(initA)\n",
    "ZPost.append(initZ)\n",
    "XPost.append(initX)\n",
    "PhiPost.append(initPhi)"
   ]
  },
  {
   "cell_type": "code",
   "execution_count": 11,
   "metadata": {},
   "outputs": [],
   "source": [
    "Count = 0"
   ]
  },
  {
   "cell_type": "markdown",
   "metadata": {},
   "source": [
    "2. Run MCMC algorithm for 10,000 iterations."
   ]
  },
  {
   "cell_type": "code",
   "execution_count": 12,
   "metadata": {},
   "outputs": [
    {
     "name": "stderr",
     "output_type": "stream",
     "text": [
      "100%|████████████████████████████████████| 10000/10000 [23:09:29<00:00,  8.34s/it]\n"
     ]
    }
   ],
   "source": [
    "# Original\n",
    "np.random.seed(15)\n",
    "IT = 10000\n",
    "\n",
    "\n",
    "for i in tq.tqdm(range(1,IT+1)):\n",
    "    begin = time.time()\n",
    "    if i == 1:\n",
    "        Ndkv = get_Ndkv(APost[i-1], trueW, Nt, K)\n",
    "        Nikt = get_Nikt(APost[i-1], K, Nt)\n",
    "    else:\n",
    "        APost.append(update_A(APost[i-2], trueW, Ndkv, Nikt, ZPost[i-1], PhiPost[i-1], Nt, eta1, eta2))\n",
    "        Ndkv = get_Ndkv(APost[i-1], trueW, Nt, K)\n",
    "        Nikt = get_Nikt(APost[i-1], K, Nt)\n",
    "        \n",
    "    ZPost.append(update_Z(XPost[i-1], PhiPost[i-1], Nikt, Nt, R))\n",
    "        \n",
    "    phi, Count = update_Phi(PhiPost[i-1], ZPost[i], Nikt, D, Count, trueGam, propScale)\n",
    "    PhiPost.append(phi)\n",
    "    \n",
    "    XPost.append(update_X(XPost[i-1], ZPost[i], Nt, M, alpha, beta, diffusion_unit))\n",
    "    end = time.time()\n",
    "    Times.append(end-begin)\n",
    "    \n",
    "    NdkvPost.append(Ndkv)\n",
    "    \n",
    "    if i in np.linspace(100,IT,100).astype(int):\n",
    "        if i == 100:\n",
    "            with open('../../MCMC/UM03/sample_'+str(i)+'.dat', \"wb\") as f:\n",
    "                pickle.dump(XPost[-101:], f)\n",
    "                pickle.dump(ZPost[-101:], f)\n",
    "                pickle.dump(PhiPost[-101:], f)\n",
    "                pickle.dump(NdkvPost[-101:], f)\n",
    "                pickle.dump(APost[-101:], f)\n",
    "                pickle.dump(Count, f)\n",
    "        else:\n",
    "            with open('../../MCMC/UM03/sample_'+str(i)+'.dat', \"wb\") as f:\n",
    "                pickle.dump(XPost[-100:], f)\n",
    "                pickle.dump(ZPost[-100:], f)\n",
    "                pickle.dump(PhiPost[-100:], f)\n",
    "                pickle.dump(NdkvPost[-100:], f)\n",
    "                pickle.dump(APost[-100:], f)\n",
    "                pickle.dump(Count, f)"
   ]
  },
  {
   "cell_type": "code",
   "execution_count": 13,
   "metadata": {},
   "outputs": [],
   "source": [
    "with open('../../MCMC/UM03/timespent.dat', \"wb\") as f:\n",
    "    pickle.dump(Times, f)"
   ]
  }
 ],
 "metadata": {
  "kernelspec": {
   "display_name": "Python 3 (ipykernel)",
   "language": "python",
   "name": "python3"
  },
  "language_info": {
   "codemirror_mode": {
    "name": "ipython",
    "version": 3
   },
   "file_extension": ".py",
   "mimetype": "text/x-python",
   "name": "python",
   "nbconvert_exporter": "python",
   "pygments_lexer": "ipython3",
   "version": "3.11.3"
  }
 },
 "nbformat": 4,
 "nbformat_minor": 4
}
