{
 "cells": [
  {
   "cell_type": "code",
   "execution_count": 1,
   "id": "9b7f3e22",
   "metadata": {},
   "outputs": [],
   "source": [
    "import pickle\n",
    "import numpy as np\n",
    "from itertools import chain, combinations"
   ]
  },
  {
   "cell_type": "code",
   "execution_count": 2,
   "id": "e0cbfacf",
   "metadata": {},
   "outputs": [],
   "source": [
    "PIK = \"../../data/Syndata7C.dat\"\n",
    "\n",
    "with open(PIK, \"rb\") as f:\n",
    "    trueW = pickle.load(f)\n",
    "    trueA = pickle.load(f)\n",
    "    trueX = pickle.load(f)\n",
    "    trueZ = pickle.load(f)\n",
    "    trueRho = pickle.load(f)\n",
    "    truePhi = pickle.load(f)\n",
    "    trueGam = pickle.load(f)\n",
    "    Nt = pickle.load(f)\n",
    "    eta1 = pickle.load(f)\n",
    "    eta2 = pickle.load(f)\n",
    "    alpha = pickle.load(f)\n",
    "    beta = pickle.load(f)\n",
    "    "
   ]
  },
  {
   "cell_type": "code",
   "execution_count": 3,
   "id": "019d0452",
   "metadata": {},
   "outputs": [],
   "source": [
    "D, T = trueW.shape[1], trueW.shape[2]"
   ]
  },
  {
   "cell_type": "code",
   "execution_count": 4,
   "id": "6326b9bd",
   "metadata": {},
   "outputs": [],
   "source": [
    "def init_X(K, T):\n",
    "    return np.repeat(1/2, K*T).reshape(K,T)\n",
    "\n",
    "def init_A(W, Nt, K):\n",
    "    \"\"\"\n",
    "        Return A for the initilization\n",
    "        We first assign active cluster for a patient, then arrange cluster assignment based on it\n",
    "    \"\"\"\n",
    "    maxNt, D, T = W.shape\n",
    "    initA = np.zeros((maxNt, D, T), dtype=np.int32) - 1\n",
    "    \n",
    "    for t in range(T):\n",
    "        for i in range(Nt[t]):\n",
    "            if sum(W[i,:,t]) > 0:\n",
    "                choice = list(chain(*(combinations(np.arange(K), x) for x in range(1, K+1))))\n",
    "                cls = np.random.choice(choice, size=1)\n",
    "                initA[i, :, t] = np.random.choice(np.array(cls[0]), size=D)  \n",
    "    return initA\n",
    "\n",
    "def init_Gam():\n",
    "    return np.array([trueGam])\n",
    "\n",
    "def init_Z(K, T, Nt, A):\n",
    "    \"\"\"\n",
    "        Returns intiailization of Z where Z_itk = 1 for N_itk > 0 from initA\n",
    "    \"\"\"\n",
    "    maxNt = np.max(Nt)\n",
    "    initZ = np.zeros((maxNt, K, T), dtype=np.int32) - 1\n",
    "    \n",
    "    for t in range(T):\n",
    "        for i in range(Nt[t]):\n",
    "            temp = np.repeat(0,K)\n",
    "            if A[i,0,t] > -1:\n",
    "                temp[np.unique(A[i,:,t])] = np.repeat(1, np.unique(A[i,:,t]).shape[0])\n",
    "            initZ[i, :, t] = temp # assign 0 or 1 randomly\n",
    "    return initZ"
   ]
  },
  {
   "cell_type": "code",
   "execution_count": 5,
   "id": "765cc4b0",
   "metadata": {},
   "outputs": [
    {
     "name": "stdout",
     "output_type": "stream",
     "text": [
      "Setting of the experiment\n",
      "\n",
      "Number of observations across time : [150 150 150 150 150 150]\n",
      "\n",
      "Number of underlying clusters K: 3\n",
      "\n",
      "Number of diseases D: 20\n",
      "\n",
      "Number of time points T: 6\n",
      "\n"
     ]
    }
   ],
   "source": [
    "D, T = trueW.shape[1], trueW.shape[2]\n",
    "K = 3\n",
    "print(\"Setting of the experiment\\n\")\n",
    "print(\"Number of observations across time : {}\\n\".format(Nt))\n",
    "print(\"Number of underlying clusters K: {}\\n\".format(K))\n",
    "print(\"Number of diseases D: {}\\n\".format(D))\n",
    "print(\"Number of time points T: {}\\n\".format(T))"
   ]
  },
  {
   "cell_type": "code",
   "execution_count": 9,
   "id": "342ae2e9",
   "metadata": {},
   "outputs": [
    {
     "name": "stderr",
     "output_type": "stream",
     "text": [
      "/var/folders/kv/8zn4jf1s0jxch5rjz712r5t00000gn/T/ipykernel_97617/2601361976.py:16: VisibleDeprecationWarning: Creating an ndarray from ragged nested sequences (which is a list-or-tuple of lists-or-tuples-or ndarrays with different lengths or shapes) is deprecated. If you meant to do this, you must specify 'dtype=object' when creating the ndarray.\n",
      "  cls = np.random.choice(choice, size=1)\n"
     ]
    }
   ],
   "source": [
    "np.random.seed(13)\n",
    "\n",
    "initA = init_A(trueW, Nt, K)\n",
    "initZ = init_Z(K, T, Nt, initA)\n",
    "initX = init_X(K, T)\n",
    "initPhi = np.repeat(3.0, K)"
   ]
  },
  {
   "cell_type": "code",
   "execution_count": 10,
   "id": "4cf60d3e",
   "metadata": {},
   "outputs": [],
   "source": [
    "with open('init.dat', \"wb\") as f:\n",
    "    pickle.dump(initA, f)\n",
    "    pickle.dump(initZ, f)\n",
    "    pickle.dump(initX, f)\n",
    "    pickle.dump(initPhi, f)"
   ]
  }
 ],
 "metadata": {
  "kernelspec": {
   "display_name": "Python 3 (ipykernel)",
   "language": "python",
   "name": "python3"
  },
  "language_info": {
   "codemirror_mode": {
    "name": "ipython",
    "version": 3
   },
   "file_extension": ".py",
   "mimetype": "text/x-python",
   "name": "python",
   "nbconvert_exporter": "python",
   "pygments_lexer": "ipython3",
   "version": "3.9.16"
  }
 },
 "nbformat": 4,
 "nbformat_minor": 5
}
